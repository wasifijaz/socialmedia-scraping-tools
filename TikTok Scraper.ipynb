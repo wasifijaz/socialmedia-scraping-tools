{
 "cells": [
  {
   "cell_type": "code",
   "execution_count": 1,
   "id": "ba01f2be",
   "metadata": {},
   "outputs": [
    {
     "name": "stdout",
     "output_type": "stream",
     "text": [
      "Requirement already satisfied: selenium in d:\\anaconda\\lib\\site-packages (4.4.0)\n",
      "Requirement already satisfied: trio~=0.17 in d:\\anaconda\\lib\\site-packages (from selenium) (0.21.0)\n",
      "Requirement already satisfied: urllib3[secure,socks]~=1.26 in d:\\anaconda\\lib\\site-packages (from selenium) (1.26.9)\n",
      "Requirement already satisfied: trio-websocket~=0.9 in d:\\anaconda\\lib\\site-packages (from selenium) (0.9.2)\n",
      "Requirement already satisfied: attrs>=19.2.0 in d:\\anaconda\\lib\\site-packages (from trio~=0.17->selenium) (21.4.0)\n",
      "Requirement already satisfied: cffi>=1.14 in d:\\anaconda\\lib\\site-packages (from trio~=0.17->selenium) (1.15.0)\n",
      "Requirement already satisfied: sortedcontainers in d:\\anaconda\\lib\\site-packages (from trio~=0.17->selenium) (2.4.0)\n",
      "Requirement already satisfied: sniffio in d:\\anaconda\\lib\\site-packages (from trio~=0.17->selenium) (1.2.0)\n",
      "Requirement already satisfied: outcome in d:\\anaconda\\lib\\site-packages (from trio~=0.17->selenium) (1.2.0)\n",
      "Requirement already satisfied: async-generator>=1.9 in d:\\anaconda\\lib\\site-packages (from trio~=0.17->selenium) (1.10)\n",
      "Requirement already satisfied: idna in d:\\anaconda\\lib\\site-packages (from trio~=0.17->selenium) (3.3)\n",
      "Requirement already satisfied: pycparser in d:\\anaconda\\lib\\site-packages (from cffi>=1.14->trio~=0.17->selenium) (2.21)\n",
      "Requirement already satisfied: wsproto>=0.14 in d:\\anaconda\\lib\\site-packages (from trio-websocket~=0.9->selenium) (1.1.0)\n",
      "Requirement already satisfied: cryptography>=1.3.4 in d:\\anaconda\\lib\\site-packages (from urllib3[secure,socks]~=1.26->selenium) (3.4.8)\n",
      "Requirement already satisfied: pyOpenSSL>=0.14 in d:\\anaconda\\lib\\site-packages (from urllib3[secure,socks]~=1.26->selenium) (21.0.0)\n",
      "Requirement already satisfied: certifi in d:\\anaconda\\lib\\site-packages (from urllib3[secure,socks]~=1.26->selenium) (2021.10.8)\n",
      "Requirement already satisfied: PySocks!=1.5.7,<2.0,>=1.5.6 in d:\\anaconda\\lib\\site-packages (from urllib3[secure,socks]~=1.26->selenium) (1.7.1)\n",
      "Requirement already satisfied: six>=1.5.2 in d:\\anaconda\\lib\\site-packages (from pyOpenSSL>=0.14->urllib3[secure,socks]~=1.26->selenium) (1.16.0)\n",
      "Requirement already satisfied: h11<1,>=0.9.0 in d:\\anaconda\\lib\\site-packages (from wsproto>=0.14->trio-websocket~=0.9->selenium) (0.13.0)\n",
      "Note: you may need to restart the kernel to use updated packages.\n"
     ]
    }
   ],
   "source": [
    "pip install selenium"
   ]
  },
  {
   "cell_type": "code",
   "execution_count": 3,
   "id": "b0dd10ee",
   "metadata": {},
   "outputs": [],
   "source": [
    "from selenium import webdriver\n",
    "from selenium.webdriver.common.action_chains import ActionChains\n",
    "import os"
   ]
  },
  {
   "cell_type": "code",
   "execution_count": 8,
   "id": "195b480a",
   "metadata": {},
   "outputs": [],
   "source": [
    "def Chrome_Driver():\n",
    "    options = webdriver.ChromeOptions()\n",
    "    options.binary_location = os.path.normpath(\"C:/Program Files/Google/Chrome/Application/chrome.exe\")\n",
    "    chrome_driver_binary = os.path.normpath(\"C:/Users/wasif/Downloads/chromedriver_win32/chromedriver.exe\")\n",
    "    driver = webdriver.Chrome(chrome_driver_binary, chrome_options=options)\n",
    "    return driver"
   ]
  },
  {
   "cell_type": "code",
   "execution_count": 10,
   "id": "8ae06991",
   "metadata": {},
   "outputs": [
    {
     "name": "stderr",
     "output_type": "stream",
     "text": [
      "C:\\Users\\wasif\\AppData\\Local\\Temp\\ipykernel_3764\\1812232360.py:5: DeprecationWarning: executable_path has been deprecated, please pass in a Service object\n",
      "  driver = webdriver.Chrome(chrome_driver_binary, chrome_options=options)\n",
      "C:\\Users\\wasif\\AppData\\Local\\Temp\\ipykernel_3764\\1812232360.py:5: DeprecationWarning: use options instead of chrome_options\n",
      "  driver = webdriver.Chrome(chrome_driver_binary, chrome_options=options)\n"
     ]
    }
   ],
   "source": [
    "driver = Chrome_Driver()\n",
    "driver.get('https://www.tiktok.com/en/') "
   ]
  },
  {
   "cell_type": "code",
   "execution_count": 11,
   "id": "7af6c20b",
   "metadata": {},
   "outputs": [
    {
     "name": "stdout",
     "output_type": "stream",
     "text": [
      "Collecting PyTikTokAPI\n",
      "  Downloading PyTikTokAPI-0.0.5.tar.gz (57 kB)\n",
      "Requirement already satisfied: requests in d:\\anaconda\\lib\\site-packages (from PyTikTokAPI) (2.27.1)\n",
      "Collecting pyppeteer\n",
      "  Downloading pyppeteer-1.0.2-py3-none-any.whl (83 kB)\n",
      "Collecting pyppeteer_stealth\n",
      "  Downloading pyppeteer_stealth-2.7.3.tar.gz (21 kB)\n",
      "Requirement already satisfied: appdirs<2.0.0,>=1.4.3 in d:\\anaconda\\lib\\site-packages (from pyppeteer->PyTikTokAPI) (1.4.4)\n",
      "Requirement already satisfied: urllib3<2.0.0,>=1.25.8 in d:\\anaconda\\lib\\site-packages (from pyppeteer->PyTikTokAPI) (1.26.9)\n",
      "Requirement already satisfied: certifi>=2021 in d:\\anaconda\\lib\\site-packages (from pyppeteer->PyTikTokAPI) (2021.10.8)\n",
      "Collecting pyee<9.0.0,>=8.1.0\n",
      "  Downloading pyee-8.2.2-py2.py3-none-any.whl (12 kB)\n",
      "Requirement already satisfied: importlib-metadata>=1.4 in d:\\anaconda\\lib\\site-packages (from pyppeteer->PyTikTokAPI) (4.11.3)\n",
      "Requirement already satisfied: tqdm<5.0.0,>=4.42.1 in d:\\anaconda\\lib\\site-packages (from pyppeteer->PyTikTokAPI) (4.64.0)\n",
      "Collecting websockets<11.0,>=10.0\n",
      "  Downloading websockets-10.3-cp39-cp39-win_amd64.whl (98 kB)\n",
      "Requirement already satisfied: zipp>=0.5 in d:\\anaconda\\lib\\site-packages (from importlib-metadata>=1.4->pyppeteer->PyTikTokAPI) (3.7.0)\n",
      "Requirement already satisfied: colorama in d:\\anaconda\\lib\\site-packages (from tqdm<5.0.0,>=4.42.1->pyppeteer->PyTikTokAPI) (0.4.4)\n",
      "Requirement already satisfied: idna<4,>=2.5 in d:\\anaconda\\lib\\site-packages (from requests->PyTikTokAPI) (3.3)\n",
      "Requirement already satisfied: charset-normalizer~=2.0.0 in d:\\anaconda\\lib\\site-packages (from requests->PyTikTokAPI) (2.0.4)\n",
      "Building wheels for collected packages: PyTikTokAPI, pyppeteer-stealth\n",
      "  Building wheel for PyTikTokAPI (setup.py): started\n",
      "  Building wheel for PyTikTokAPI (setup.py): finished with status 'done'\n",
      "  Created wheel for PyTikTokAPI: filename=PyTikTokAPI-0.0.5-py3-none-any.whl size=56542 sha256=e20b36a2f7bde166655a66661e5b8dfa4bc10d8f495b5f37a7c0925a1ed7c936\n",
      "  Stored in directory: c:\\users\\wasif\\appdata\\local\\pip\\cache\\wheels\\e9\\a4\\c2\\e3bfcbdc90be48584dfcc0dffa0e067daca5cd9c2b258d4d6e\n",
      "  Building wheel for pyppeteer-stealth (setup.py): started\n",
      "  Building wheel for pyppeteer-stealth (setup.py): finished with status 'done'\n",
      "  Created wheel for pyppeteer-stealth: filename=pyppeteer_stealth-2.7.3-py3-none-any.whl size=32129 sha256=7c32d27ec506fbdc50738d502df36d910989098f3d4b75b917bad49e758c5c08\n",
      "  Stored in directory: c:\\users\\wasif\\appdata\\local\\pip\\cache\\wheels\\79\\f9\\33\\ea991d8f827fe0934b35f60e9e6cce6a48069a04547bc209a7\n",
      "Successfully built PyTikTokAPI pyppeteer-stealth\n",
      "Installing collected packages: websockets, pyee, pyppeteer-stealth, pyppeteer, PyTikTokAPI\n",
      "Successfully installed PyTikTokAPI-0.0.5 pyee-8.2.2 pyppeteer-1.0.2 pyppeteer-stealth-2.7.3 websockets-10.3\n",
      "Note: you may need to restart the kernel to use updated packages.\n"
     ]
    }
   ],
   "source": [
    "pip install PyTikTokAPI"
   ]
  },
  {
   "cell_type": "code",
   "execution_count": 13,
   "id": "e9e8daae",
   "metadata": {},
   "outputs": [],
   "source": [
    "from TikTokAPI import TikTokAPI"
   ]
  },
  {
   "cell_type": "code",
   "execution_count": 15,
   "id": "136d8f18",
   "metadata": {},
   "outputs": [],
   "source": [
    "cookie = {\n",
    "  \"s_v_web_id\": \"ccH3DbYGzSjlWkjTRGpU7P7tdxZYBMMBlOEmzPJ6UKxropklr60cfK20gqSdKsWTmxcECu0Vo1OzzZ67JR0f3s1Q\",\n",
    "  \"tt_webid\": \"7Cee9895baee47a73bc1715645a960dbcd42c44288f980f6d594af413ea6083f6f\"\n",
    "}"
   ]
  },
  {
   "cell_type": "code",
   "execution_count": 18,
   "id": "1278cd7a",
   "metadata": {},
   "outputs": [
    {
     "ename": "RuntimeError",
     "evalue": "This event loop is already running",
     "output_type": "error",
     "traceback": [
      "\u001b[1;31m---------------------------------------------------------------------------\u001b[0m",
      "\u001b[1;31mRuntimeError\u001b[0m                              Traceback (most recent call last)",
      "Input \u001b[1;32mIn [18]\u001b[0m, in \u001b[0;36m<cell line: 2>\u001b[1;34m()\u001b[0m\n\u001b[0;32m      1\u001b[0m api \u001b[38;5;241m=\u001b[39m TikTokAPI(cookie\u001b[38;5;241m=\u001b[39mcookie)\n\u001b[1;32m----> 2\u001b[0m user_obj \u001b[38;5;241m=\u001b[39m \u001b[43mapi\u001b[49m\u001b[38;5;241;43m.\u001b[39;49m\u001b[43mgetUserByName\u001b[49m\u001b[43m(\u001b[49m\u001b[38;5;124;43m\"\u001b[39;49m\u001b[38;5;124;43mfcbarcelona\u001b[39;49m\u001b[38;5;124;43m\"\u001b[39;49m\u001b[43m)\u001b[49m\n",
      "File \u001b[1;32mD:\\Anaconda\\lib\\site-packages\\TikTokAPI\\tiktokapi.py:114\u001b[0m, in \u001b[0;36mTikTokAPI.getUserByName\u001b[1;34m(self, user_name)\u001b[0m\n\u001b[0;32m    112\u001b[0m \u001b[38;5;28;01mfor\u001b[39;00m key, val \u001b[38;5;129;01min\u001b[39;00m \u001b[38;5;28mself\u001b[39m\u001b[38;5;241m.\u001b[39mdefault_params\u001b[38;5;241m.\u001b[39mitems():\n\u001b[0;32m    113\u001b[0m     params[key] \u001b[38;5;241m=\u001b[39m val\n\u001b[1;32m--> 114\u001b[0m \u001b[38;5;28;01mreturn\u001b[39;00m \u001b[38;5;28;43mself\u001b[39;49m\u001b[38;5;241;43m.\u001b[39;49m\u001b[43msend_get_request\u001b[49m\u001b[43m(\u001b[49m\u001b[43murl\u001b[49m\u001b[43m,\u001b[49m\u001b[43m \u001b[49m\u001b[43mparams\u001b[49m\u001b[43m)\u001b[49m\n",
      "File \u001b[1;32mD:\\Anaconda\\lib\\site-packages\\TikTokAPI\\tiktokapi.py:74\u001b[0m, in \u001b[0;36mTikTokAPI.send_get_request\u001b[1;34m(self, url, params, extra_headers)\u001b[0m\n\u001b[0;32m     72\u001b[0m did \u001b[38;5;241m=\u001b[39m \u001b[38;5;124m'\u001b[39m\u001b[38;5;124m'\u001b[39m\u001b[38;5;241m.\u001b[39mjoin(random\u001b[38;5;241m.\u001b[39mchoice(string\u001b[38;5;241m.\u001b[39mdigits) \u001b[38;5;28;01mfor\u001b[39;00m num \u001b[38;5;129;01min\u001b[39;00m \u001b[38;5;28mrange\u001b[39m(\u001b[38;5;241m19\u001b[39m))\n\u001b[0;32m     73\u001b[0m url \u001b[38;5;241m=\u001b[39m build_get_url(url, {\u001b[38;5;28mself\u001b[39m\u001b[38;5;241m.\u001b[39mdid_key: did}, append\u001b[38;5;241m=\u001b[39m\u001b[38;5;28;01mTrue\u001b[39;00m)\n\u001b[1;32m---> 74\u001b[0m signature \u001b[38;5;241m=\u001b[39m \u001b[38;5;28;43mself\u001b[39;49m\u001b[38;5;241;43m.\u001b[39;49m\u001b[43mtiktok_browser\u001b[49m\u001b[38;5;241;43m.\u001b[39;49m\u001b[43mfetch_auth_params\u001b[49m\u001b[43m(\u001b[49m\u001b[43murl\u001b[49m\u001b[43m,\u001b[49m\u001b[43m \u001b[49m\u001b[43mlanguage\u001b[49m\u001b[38;5;241;43m=\u001b[39;49m\u001b[38;5;28;43mself\u001b[39;49m\u001b[38;5;241;43m.\u001b[39;49m\u001b[43mlanguage\u001b[49m\u001b[43m)\u001b[49m\n\u001b[0;32m     75\u001b[0m url \u001b[38;5;241m=\u001b[39m build_get_url(url, {\u001b[38;5;28mself\u001b[39m\u001b[38;5;241m.\u001b[39msignature_key: signature}, append\u001b[38;5;241m=\u001b[39m\u001b[38;5;28;01mTrue\u001b[39;00m)\n\u001b[0;32m     76\u001b[0m \u001b[38;5;28;01mif\u001b[39;00m extra_headers \u001b[38;5;129;01mis\u001b[39;00m \u001b[38;5;28;01mNone\u001b[39;00m:\n",
      "File \u001b[1;32mD:\\Anaconda\\lib\\site-packages\\TikTokAPI\\tiktok_browser.py:54\u001b[0m, in \u001b[0;36mTikTokBrowser.fetch_auth_params\u001b[1;34m(self, url, language)\u001b[0m\n\u001b[0;32m     53\u001b[0m \u001b[38;5;28;01mdef\u001b[39;00m \u001b[38;5;21mfetch_auth_params\u001b[39m(\u001b[38;5;28mself\u001b[39m, url, language\u001b[38;5;241m=\u001b[39m\u001b[38;5;124m'\u001b[39m\u001b[38;5;124men\u001b[39m\u001b[38;5;124m'\u001b[39m):\n\u001b[1;32m---> 54\u001b[0m     \u001b[38;5;28;01mreturn\u001b[39;00m \u001b[43masyncio\u001b[49m\u001b[38;5;241;43m.\u001b[39;49m\u001b[43mget_event_loop\u001b[49m\u001b[43m(\u001b[49m\u001b[43m)\u001b[49m\u001b[38;5;241;43m.\u001b[39;49m\u001b[43mrun_until_complete\u001b[49m\u001b[43m(\u001b[49m\u001b[38;5;28;43mself\u001b[39;49m\u001b[38;5;241;43m.\u001b[39;49m\u001b[43masync_fetch_auth_params\u001b[49m\u001b[43m(\u001b[49m\u001b[43murl\u001b[49m\u001b[43m,\u001b[49m\u001b[43m \u001b[49m\u001b[43mlanguage\u001b[49m\u001b[43m)\u001b[49m\u001b[43m)\u001b[49m\n",
      "File \u001b[1;32mD:\\Anaconda\\lib\\asyncio\\base_events.py:623\u001b[0m, in \u001b[0;36mBaseEventLoop.run_until_complete\u001b[1;34m(self, future)\u001b[0m\n\u001b[0;32m    612\u001b[0m \u001b[38;5;124;03m\"\"\"Run until the Future is done.\u001b[39;00m\n\u001b[0;32m    613\u001b[0m \n\u001b[0;32m    614\u001b[0m \u001b[38;5;124;03mIf the argument is a coroutine, it is wrapped in a Task.\u001b[39;00m\n\u001b[1;32m   (...)\u001b[0m\n\u001b[0;32m    620\u001b[0m \u001b[38;5;124;03mReturn the Future's result, or raise its exception.\u001b[39;00m\n\u001b[0;32m    621\u001b[0m \u001b[38;5;124;03m\"\"\"\u001b[39;00m\n\u001b[0;32m    622\u001b[0m \u001b[38;5;28mself\u001b[39m\u001b[38;5;241m.\u001b[39m_check_closed()\n\u001b[1;32m--> 623\u001b[0m \u001b[38;5;28;43mself\u001b[39;49m\u001b[38;5;241;43m.\u001b[39;49m\u001b[43m_check_running\u001b[49m\u001b[43m(\u001b[49m\u001b[43m)\u001b[49m\n\u001b[0;32m    625\u001b[0m new_task \u001b[38;5;241m=\u001b[39m \u001b[38;5;129;01mnot\u001b[39;00m futures\u001b[38;5;241m.\u001b[39misfuture(future)\n\u001b[0;32m    626\u001b[0m future \u001b[38;5;241m=\u001b[39m tasks\u001b[38;5;241m.\u001b[39mensure_future(future, loop\u001b[38;5;241m=\u001b[39m\u001b[38;5;28mself\u001b[39m)\n",
      "File \u001b[1;32mD:\\Anaconda\\lib\\asyncio\\base_events.py:583\u001b[0m, in \u001b[0;36mBaseEventLoop._check_running\u001b[1;34m(self)\u001b[0m\n\u001b[0;32m    581\u001b[0m \u001b[38;5;28;01mdef\u001b[39;00m \u001b[38;5;21m_check_running\u001b[39m(\u001b[38;5;28mself\u001b[39m):\n\u001b[0;32m    582\u001b[0m     \u001b[38;5;28;01mif\u001b[39;00m \u001b[38;5;28mself\u001b[39m\u001b[38;5;241m.\u001b[39mis_running():\n\u001b[1;32m--> 583\u001b[0m         \u001b[38;5;28;01mraise\u001b[39;00m \u001b[38;5;167;01mRuntimeError\u001b[39;00m(\u001b[38;5;124m'\u001b[39m\u001b[38;5;124mThis event loop is already running\u001b[39m\u001b[38;5;124m'\u001b[39m)\n\u001b[0;32m    584\u001b[0m     \u001b[38;5;28;01mif\u001b[39;00m events\u001b[38;5;241m.\u001b[39m_get_running_loop() \u001b[38;5;129;01mis\u001b[39;00m \u001b[38;5;129;01mnot\u001b[39;00m \u001b[38;5;28;01mNone\u001b[39;00m:\n\u001b[0;32m    585\u001b[0m         \u001b[38;5;28;01mraise\u001b[39;00m \u001b[38;5;167;01mRuntimeError\u001b[39;00m(\n\u001b[0;32m    586\u001b[0m             \u001b[38;5;124m'\u001b[39m\u001b[38;5;124mCannot run the event loop while another loop is running\u001b[39m\u001b[38;5;124m'\u001b[39m)\n",
      "\u001b[1;31mRuntimeError\u001b[0m: This event loop is already running"
     ]
    }
   ],
   "source": [
    "api = TikTokAPI(cookie=cookie)\n",
    "user_obj = api.getUserByName(\"fcbarcelona\")"
   ]
  },
  {
   "cell_type": "code",
   "execution_count": 19,
   "id": "205006c4",
   "metadata": {},
   "outputs": [
    {
     "ename": "SyntaxError",
     "evalue": "invalid syntax (933812785.py, line 1)",
     "output_type": "error",
     "traceback": [
      "\u001b[1;36m  Input \u001b[1;32mIn [19]\u001b[1;36m\u001b[0m\n\u001b[1;33m    pip install selenium==3.141.0\u001b[0m\n\u001b[1;37m        ^\u001b[0m\n\u001b[1;31mSyntaxError\u001b[0m\u001b[1;31m:\u001b[0m invalid syntax\n"
     ]
    }
   ],
   "source": [
    "pip install selenium==3.141.0\n",
    "pip install fake-headers==1.0.2\n",
    "pip install webdriver_manager==3.2.2"
   ]
  },
  {
   "cell_type": "code",
   "execution_count": 7,
   "id": "a68f223d",
   "metadata": {},
   "outputs": [],
   "source": [
    "import argparse\n",
    "import json\n",
    "import selenium\n",
    "from selenium import webdriver\n",
    "from selenium.webdriver.support.ui import WebDriverWait\n",
    "from selenium.webdriver.chrome.options import Options as ChromeOptions\n",
    "from selenium.webdriver.firefox.options import Options as FirefoxOptions\n",
    "from selenium.webdriver.common.by import By\n",
    "from selenium.webdriver.support import expected_conditions as EC\n",
    "from fake_headers import Headers\n",
    "from webdriver_manager.chrome import ChromeDriverManager\n",
    "from webdriver_manager.firefox import GeckoDriverManager"
   ]
  },
  {
   "cell_type": "code",
   "execution_count": 16,
   "id": "2ae8db03",
   "metadata": {},
   "outputs": [],
   "source": [
    "class Tiktok:\n",
    "    @staticmethod\n",
    "    def init_driver(browser_name:str):\n",
    "        def set_properties(browser_option):\n",
    "            ua = Headers().generate()      #fake user agent\n",
    "            browser_option.add_argument('--headless')\n",
    "            browser_option.add_argument('--disable-extensions')\n",
    "            browser_option.add_argument('--incognito')\n",
    "            browser_option.add_argument('--disable-gpu')\n",
    "            browser_option.add_argument('--log-level=3')\n",
    "            browser_option.add_argument(f'user-agent={ua}')\n",
    "            browser_option.add_argument('--disable-notifications')\n",
    "            browser_option.add_argument('--disable-popup-blocking')\n",
    "\n",
    "            return browser_option\n",
    "        try:\n",
    "            browser_name = browser_name.strip().title()\n",
    "\n",
    "            ua = Headers().generate()      #fake user agent\n",
    "\n",
    "            if browser_name.lower() == \"chrome\":\n",
    "                browser_option = ChromeOptions()\n",
    "                browser_option = set_properties(browser_option)\n",
    "                driver = webdriver.Chrome(ChromeDriverManager().install(),options=browser_option) #chromedriver's path in first argument\n",
    "            elif browser_name.lower() == \"firefox\":\n",
    "                browser_option = FirefoxOptions()\n",
    "                browser_option = set_properties(browser_option)\n",
    "                driver = webdriver.Firefox(executable_path=GeckoDriverManager().install(),options=browser_option)\n",
    "            else:\n",
    "                driver = \"Browser Not Supported!\"\n",
    "            return driver\n",
    "        except Exception as ex:\n",
    "            print(ex)\n",
    "\n",
    "    @staticmethod\n",
    "    def scrap(username,browser_name):\n",
    "        try:\n",
    "            URL = 'https://tiktok.com/@{}'.format(username)\n",
    "\n",
    "            try:\n",
    "                driver = Tiktok.init_driver(browser_name)\n",
    "                driver.get(URL)\n",
    "            except AttributeError:\n",
    "                print(\"Driver is not set\")\n",
    "                exit()\n",
    "\n",
    "\n",
    "            wait = WebDriverWait(driver, 10)\n",
    "            element = wait.until(EC.title_contains(\"@{}\".format(username)))\n",
    "\n",
    "            state_data = driver.execute_script(\"return window['SIGI_STATE']\")\n",
    "            user_data = state_data['UserModule']['users'][username.lower()]\n",
    "            stats_data = state_data['UserModule']['stats'][username.lower()]\n",
    "            nick_name = user_data['nickname']\n",
    "            sec_id = user_data['secUid']\n",
    "            user_id = user_data['id']\n",
    "            is_secret = user_data['secret']\n",
    "            unique_name = user_data['uniqueId']\n",
    "            signature = user_data['signature']\n",
    "            avatar = user_data['avatarMedium']\n",
    "            following = stats_data['followingCount']\n",
    "            followers = stats_data['followerCount']\n",
    "            heart = stats_data['heart']\n",
    "            heart_count = stats_data['heartCount']\n",
    "            video = stats_data['videoCount']\n",
    "            is_verified = user_data['verified']\n",
    "\n",
    "            profile_data =  {\n",
    "                    'sec_id' : sec_id,\n",
    "                    'id' : user_id,\n",
    "                    'is_secret' : is_secret,\n",
    "                    'username' : unique_name,\n",
    "                    'nickname' : nick_name,\n",
    "                    'bio' : signature,\n",
    "                    'avatar_image' : avatar,\n",
    "                    'following' : following,\n",
    "                    'followers' : followers,\n",
    "                    'hearts' : heart,\n",
    "                    'heart_count' : heart_count,\n",
    "                    'video_count' : video,\n",
    "                    'is_verified' : is_verified\n",
    "                }\n",
    "            driver.close()\n",
    "            driver.quit()\n",
    "            return json.dumps(profile_data,indent=4)\n",
    "        except Exception as ex:\n",
    "            driver.close()\n",
    "            driver.quit()\n",
    "            print(ex)"
   ]
  },
  {
   "cell_type": "code",
   "execution_count": 17,
   "id": "46865ed6",
   "metadata": {},
   "outputs": [
    {
     "name": "stderr",
     "output_type": "stream",
     "text": [
      "[WDM] - Current google-chrome version is 104.0.5112\n",
      "[WDM] - Get LATEST driver version for 104.0.5112\n",
      "[WDM] - Driver [C:\\Users\\wasif\\.wdm\\drivers\\chromedriver\\win32\\104.0.5112.79\\chromedriver.exe] found in cache\n"
     ]
    },
    {
     "name": "stdout",
     "output_type": "stream",
     "text": [
      " \n",
      "Message: \n",
      "\n",
      "None\n"
     ]
    }
   ],
   "source": [
    "print(Tiktok.scrap('rashid_khosa007','chrome'))"
   ]
  },
  {
   "cell_type": "code",
   "execution_count": 1,
   "id": "c3d1712b",
   "metadata": {},
   "outputs": [
    {
     "name": "stdout",
     "output_type": "stream",
     "text": [
      "Requirement already satisfied: flask in d:\\anaconda\\lib\\site-packages (1.1.2)\n",
      "Requirement already satisfied: itsdangerous>=0.24 in d:\\anaconda\\lib\\site-packages (from flask) (2.0.1)\n",
      "Requirement already satisfied: click>=5.1 in d:\\anaconda\\lib\\site-packages (from flask) (8.0.4)\n",
      "Requirement already satisfied: Werkzeug>=0.15 in d:\\anaconda\\lib\\site-packages (from flask) (2.0.3)\n",
      "Requirement already satisfied: Jinja2>=2.10.1 in d:\\anaconda\\lib\\site-packages (from flask) (2.11.3)\n",
      "Requirement already satisfied: colorama in d:\\anaconda\\lib\\site-packages (from click>=5.1->flask) (0.4.4)\n",
      "Requirement already satisfied: MarkupSafe>=0.23 in d:\\anaconda\\lib\\site-packages (from Jinja2>=2.10.1->flask) (2.0.1)\n",
      "Note: you may need to restart the kernel to use updated packages.\n"
     ]
    }
   ],
   "source": [
    "pip install flask"
   ]
  },
  {
   "cell_type": "code",
   "execution_count": 2,
   "id": "4f556280",
   "metadata": {},
   "outputs": [],
   "source": [
    "from flask import Flask"
   ]
  },
  {
   "cell_type": "code",
   "execution_count": 3,
   "id": "6e732c11",
   "metadata": {},
   "outputs": [],
   "source": [
    "app = Flask(__name__)\n",
    "\n",
    "@app.route(\"/\")\n",
    "def index():\n",
    "    return \"Congratulations, it's a web app!\""
   ]
  },
  {
   "cell_type": "code",
   "execution_count": 6,
   "id": "7935c7ac",
   "metadata": {},
   "outputs": [
    {
     "name": "stdout",
     "output_type": "stream",
     "text": [
      " * Serving Flask app \"__main__\" (lazy loading)\n",
      " * Environment: production\n",
      "\u001b[31m   WARNING: This is a development server. Do not use it in a production deployment.\u001b[0m\n",
      "\u001b[2m   Use a production WSGI server instead.\u001b[0m\n",
      " * Debug mode: on\n"
     ]
    },
    {
     "name": "stderr",
     "output_type": "stream",
     "text": [
      " * Restarting with watchdog (windowsapi)\n"
     ]
    },
    {
     "ename": "SystemExit",
     "evalue": "1",
     "output_type": "error",
     "traceback": [
      "An exception has occurred, use %tb to see the full traceback.\n",
      "\u001b[1;31mSystemExit\u001b[0m\u001b[1;31m:\u001b[0m 1\n"
     ]
    }
   ],
   "source": [
    "if __name__ == \"__main__\":\n",
    "    app.run(host=\"127.0.0.1\", port=8080, debug=True)"
   ]
  },
  {
   "cell_type": "code",
   "execution_count": null,
   "id": "d72988bd",
   "metadata": {},
   "outputs": [],
   "source": []
  }
 ],
 "metadata": {
  "kernelspec": {
   "display_name": "Python 3 (ipykernel)",
   "language": "python",
   "name": "python3"
  },
  "language_info": {
   "codemirror_mode": {
    "name": "ipython",
    "version": 3
   },
   "file_extension": ".py",
   "mimetype": "text/x-python",
   "name": "python",
   "nbconvert_exporter": "python",
   "pygments_lexer": "ipython3",
   "version": "3.9.12"
  }
 },
 "nbformat": 4,
 "nbformat_minor": 5
}
